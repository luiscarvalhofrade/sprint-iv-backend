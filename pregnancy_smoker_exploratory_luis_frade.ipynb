{
  "cells": [
    {
      "cell_type": "markdown",
      "metadata": {
        "id": "view-in-github",
        "colab_type": "text"
      },
      "source": [
        "<a href=\"https://colab.research.google.com/github/luiscarvalhofrade/sprint-iv-backend/blob/main/pregnancy_smoker_exploratory_luis_frade.ipynb\" target=\"_parent\"><img src=\"https://colab.research.google.com/assets/colab-badge.svg\" alt=\"Open In Colab\"/></a>"
      ]
    },
    {
      "cell_type": "markdown",
      "source": [
        "# **Sprint IV - Desenvolvimento de software inteligentes**\n",
        "\n",
        "Aluno: Luis Cláudio de Carvalho Frade"
      ],
      "metadata": {
        "id": "2EbcV7SJz9gt"
      },
      "id": "2EbcV7SJz9gt"
    },
    {
      "cell_type": "markdown",
      "source": [
        "Importando as bibliotecas necessárias para o correto funcionamento da análise"
      ],
      "metadata": {
        "id": "tu5xKsYz0Cye"
      },
      "id": "tu5xKsYz0Cye"
    },
    {
      "cell_type": "code",
      "execution_count": 1,
      "id": "874ca500",
      "metadata": {
        "id": "874ca500"
      },
      "outputs": [],
      "source": [
        "# configuração para não exibir os warnings\n",
        "import warnings\n",
        "warnings.filterwarnings(\"ignore\")\n",
        "\n",
        "# Imports necessários\n",
        "import pandas as pd\n",
        "import numpy as np\n",
        "import pickle\n",
        "import matplotlib.pyplot as plt\n",
        "from sklearn.preprocessing import StandardScaler\n",
        "from sklearn.preprocessing import MinMaxScaler\n",
        "from sklearn.model_selection import train_test_split\n",
        "from sklearn.model_selection import KFold\n",
        "from sklearn.model_selection import StratifiedKFold\n",
        "from sklearn.model_selection import cross_val_score\n",
        "from sklearn.model_selection import GridSearchCV\n",
        "from sklearn.metrics import accuracy_score, recall_score, precision_score, f1_score\n",
        "from sklearn.pipeline import Pipeline\n",
        "from sklearn.tree import DecisionTreeClassifier\n",
        "from sklearn.neighbors import KNeighborsClassifier\n",
        "from sklearn.naive_bayes import GaussianNB\n",
        "from sklearn.svm import SVC"
      ]
    },
    {
      "cell_type": "markdown",
      "source": [
        "## Importando dados a serem analisados para o desenvolvimento do(s) modelo(s)\n",
        "\n",
        "# Dados\n",
        "\n",
        "- Os dados escolhidos são observação referente a dados de mães e filhos recem nascidos, onde buscamos entender se com os dados conseguimos identificar se uma mãe fumou ou não no período da gravidez.\n",
        "\n",
        "- Columas:\n",
        "  - BWT: peso do recém nascido em onças\n",
        "  - GESTATION: número total de dias da gestação\n",
        "  - PARITY: primogênito (1: sim, 0: não)\n",
        "  - WEIGHT: peso da mãe em libras\n",
        "  - HEIGHT: altura da mãe em pés\n",
        "  - AGE: idade em anos da mãe"
      ],
      "metadata": {
        "id": "aXUeDT2f0HOO"
      },
      "id": "aXUeDT2f0HOO"
    },
    {
      "cell_type": "code",
      "execution_count": 2,
      "id": "0f5381d5",
      "metadata": {
        "id": "0f5381d5",
        "colab": {
          "base_uri": "https://localhost:8080/",
          "height": 206
        },
        "outputId": "dded5280-4c82-4fbc-e856-1df4d129acba"
      },
      "outputs": [
        {
          "output_type": "execute_result",
          "data": {
            "text/plain": [
              "   bwt  gestation  parity   age  height  weight  smoke\n",
              "0  120      284.0       0  27.0    62.0   100.0    0.0\n",
              "1  113      282.0       0  33.0    64.0   135.0    0.0\n",
              "2  128      279.0       0  28.0    64.0   115.0    1.0\n",
              "3  123        NaN       0  36.0    69.0   190.0    0.0\n",
              "4  108      282.0       0  23.0    67.0   125.0    1.0"
            ],
            "text/html": [
              "\n",
              "  <div id=\"df-2383b227-3257-4d5c-b8cd-b9f4fcf85e7e\" class=\"colab-df-container\">\n",
              "    <div>\n",
              "<style scoped>\n",
              "    .dataframe tbody tr th:only-of-type {\n",
              "        vertical-align: middle;\n",
              "    }\n",
              "\n",
              "    .dataframe tbody tr th {\n",
              "        vertical-align: top;\n",
              "    }\n",
              "\n",
              "    .dataframe thead th {\n",
              "        text-align: right;\n",
              "    }\n",
              "</style>\n",
              "<table border=\"1\" class=\"dataframe\">\n",
              "  <thead>\n",
              "    <tr style=\"text-align: right;\">\n",
              "      <th></th>\n",
              "      <th>bwt</th>\n",
              "      <th>gestation</th>\n",
              "      <th>parity</th>\n",
              "      <th>age</th>\n",
              "      <th>height</th>\n",
              "      <th>weight</th>\n",
              "      <th>smoke</th>\n",
              "    </tr>\n",
              "  </thead>\n",
              "  <tbody>\n",
              "    <tr>\n",
              "      <th>0</th>\n",
              "      <td>120</td>\n",
              "      <td>284.0</td>\n",
              "      <td>0</td>\n",
              "      <td>27.0</td>\n",
              "      <td>62.0</td>\n",
              "      <td>100.0</td>\n",
              "      <td>0.0</td>\n",
              "    </tr>\n",
              "    <tr>\n",
              "      <th>1</th>\n",
              "      <td>113</td>\n",
              "      <td>282.0</td>\n",
              "      <td>0</td>\n",
              "      <td>33.0</td>\n",
              "      <td>64.0</td>\n",
              "      <td>135.0</td>\n",
              "      <td>0.0</td>\n",
              "    </tr>\n",
              "    <tr>\n",
              "      <th>2</th>\n",
              "      <td>128</td>\n",
              "      <td>279.0</td>\n",
              "      <td>0</td>\n",
              "      <td>28.0</td>\n",
              "      <td>64.0</td>\n",
              "      <td>115.0</td>\n",
              "      <td>1.0</td>\n",
              "    </tr>\n",
              "    <tr>\n",
              "      <th>3</th>\n",
              "      <td>123</td>\n",
              "      <td>NaN</td>\n",
              "      <td>0</td>\n",
              "      <td>36.0</td>\n",
              "      <td>69.0</td>\n",
              "      <td>190.0</td>\n",
              "      <td>0.0</td>\n",
              "    </tr>\n",
              "    <tr>\n",
              "      <th>4</th>\n",
              "      <td>108</td>\n",
              "      <td>282.0</td>\n",
              "      <td>0</td>\n",
              "      <td>23.0</td>\n",
              "      <td>67.0</td>\n",
              "      <td>125.0</td>\n",
              "      <td>1.0</td>\n",
              "    </tr>\n",
              "  </tbody>\n",
              "</table>\n",
              "</div>\n",
              "    <div class=\"colab-df-buttons\">\n",
              "\n",
              "  <div class=\"colab-df-container\">\n",
              "    <button class=\"colab-df-convert\" onclick=\"convertToInteractive('df-2383b227-3257-4d5c-b8cd-b9f4fcf85e7e')\"\n",
              "            title=\"Convert this dataframe to an interactive table.\"\n",
              "            style=\"display:none;\">\n",
              "\n",
              "  <svg xmlns=\"http://www.w3.org/2000/svg\" height=\"24px\" viewBox=\"0 -960 960 960\">\n",
              "    <path d=\"M120-120v-720h720v720H120Zm60-500h600v-160H180v160Zm220 220h160v-160H400v160Zm0 220h160v-160H400v160ZM180-400h160v-160H180v160Zm440 0h160v-160H620v160ZM180-180h160v-160H180v160Zm440 0h160v-160H620v160Z\"/>\n",
              "  </svg>\n",
              "    </button>\n",
              "\n",
              "  <style>\n",
              "    .colab-df-container {\n",
              "      display:flex;\n",
              "      gap: 12px;\n",
              "    }\n",
              "\n",
              "    .colab-df-convert {\n",
              "      background-color: #E8F0FE;\n",
              "      border: none;\n",
              "      border-radius: 50%;\n",
              "      cursor: pointer;\n",
              "      display: none;\n",
              "      fill: #1967D2;\n",
              "      height: 32px;\n",
              "      padding: 0 0 0 0;\n",
              "      width: 32px;\n",
              "    }\n",
              "\n",
              "    .colab-df-convert:hover {\n",
              "      background-color: #E2EBFA;\n",
              "      box-shadow: 0px 1px 2px rgba(60, 64, 67, 0.3), 0px 1px 3px 1px rgba(60, 64, 67, 0.15);\n",
              "      fill: #174EA6;\n",
              "    }\n",
              "\n",
              "    .colab-df-buttons div {\n",
              "      margin-bottom: 4px;\n",
              "    }\n",
              "\n",
              "    [theme=dark] .colab-df-convert {\n",
              "      background-color: #3B4455;\n",
              "      fill: #D2E3FC;\n",
              "    }\n",
              "\n",
              "    [theme=dark] .colab-df-convert:hover {\n",
              "      background-color: #434B5C;\n",
              "      box-shadow: 0px 1px 3px 1px rgba(0, 0, 0, 0.15);\n",
              "      filter: drop-shadow(0px 1px 2px rgba(0, 0, 0, 0.3));\n",
              "      fill: #FFFFFF;\n",
              "    }\n",
              "  </style>\n",
              "\n",
              "    <script>\n",
              "      const buttonEl =\n",
              "        document.querySelector('#df-2383b227-3257-4d5c-b8cd-b9f4fcf85e7e button.colab-df-convert');\n",
              "      buttonEl.style.display =\n",
              "        google.colab.kernel.accessAllowed ? 'block' : 'none';\n",
              "\n",
              "      async function convertToInteractive(key) {\n",
              "        const element = document.querySelector('#df-2383b227-3257-4d5c-b8cd-b9f4fcf85e7e');\n",
              "        const dataTable =\n",
              "          await google.colab.kernel.invokeFunction('convertToInteractive',\n",
              "                                                    [key], {});\n",
              "        if (!dataTable) return;\n",
              "\n",
              "        const docLinkHtml = 'Like what you see? Visit the ' +\n",
              "          '<a target=\"_blank\" href=https://colab.research.google.com/notebooks/data_table.ipynb>data table notebook</a>'\n",
              "          + ' to learn more about interactive tables.';\n",
              "        element.innerHTML = '';\n",
              "        dataTable['output_type'] = 'display_data';\n",
              "        await google.colab.output.renderOutput(dataTable, element);\n",
              "        const docLink = document.createElement('div');\n",
              "        docLink.innerHTML = docLinkHtml;\n",
              "        element.appendChild(docLink);\n",
              "      }\n",
              "    </script>\n",
              "  </div>\n",
              "\n",
              "\n",
              "<div id=\"df-c2f09ea2-0f04-4d81-ab1e-80ad45487857\">\n",
              "  <button class=\"colab-df-quickchart\" onclick=\"quickchart('df-c2f09ea2-0f04-4d81-ab1e-80ad45487857')\"\n",
              "            title=\"Suggest charts\"\n",
              "            style=\"display:none;\">\n",
              "\n",
              "<svg xmlns=\"http://www.w3.org/2000/svg\" height=\"24px\"viewBox=\"0 0 24 24\"\n",
              "     width=\"24px\">\n",
              "    <g>\n",
              "        <path d=\"M19 3H5c-1.1 0-2 .9-2 2v14c0 1.1.9 2 2 2h14c1.1 0 2-.9 2-2V5c0-1.1-.9-2-2-2zM9 17H7v-7h2v7zm4 0h-2V7h2v10zm4 0h-2v-4h2v4z\"/>\n",
              "    </g>\n",
              "</svg>\n",
              "  </button>\n",
              "\n",
              "<style>\n",
              "  .colab-df-quickchart {\n",
              "      --bg-color: #E8F0FE;\n",
              "      --fill-color: #1967D2;\n",
              "      --hover-bg-color: #E2EBFA;\n",
              "      --hover-fill-color: #174EA6;\n",
              "      --disabled-fill-color: #AAA;\n",
              "      --disabled-bg-color: #DDD;\n",
              "  }\n",
              "\n",
              "  [theme=dark] .colab-df-quickchart {\n",
              "      --bg-color: #3B4455;\n",
              "      --fill-color: #D2E3FC;\n",
              "      --hover-bg-color: #434B5C;\n",
              "      --hover-fill-color: #FFFFFF;\n",
              "      --disabled-bg-color: #3B4455;\n",
              "      --disabled-fill-color: #666;\n",
              "  }\n",
              "\n",
              "  .colab-df-quickchart {\n",
              "    background-color: var(--bg-color);\n",
              "    border: none;\n",
              "    border-radius: 50%;\n",
              "    cursor: pointer;\n",
              "    display: none;\n",
              "    fill: var(--fill-color);\n",
              "    height: 32px;\n",
              "    padding: 0;\n",
              "    width: 32px;\n",
              "  }\n",
              "\n",
              "  .colab-df-quickchart:hover {\n",
              "    background-color: var(--hover-bg-color);\n",
              "    box-shadow: 0 1px 2px rgba(60, 64, 67, 0.3), 0 1px 3px 1px rgba(60, 64, 67, 0.15);\n",
              "    fill: var(--button-hover-fill-color);\n",
              "  }\n",
              "\n",
              "  .colab-df-quickchart-complete:disabled,\n",
              "  .colab-df-quickchart-complete:disabled:hover {\n",
              "    background-color: var(--disabled-bg-color);\n",
              "    fill: var(--disabled-fill-color);\n",
              "    box-shadow: none;\n",
              "  }\n",
              "\n",
              "  .colab-df-spinner {\n",
              "    border: 2px solid var(--fill-color);\n",
              "    border-color: transparent;\n",
              "    border-bottom-color: var(--fill-color);\n",
              "    animation:\n",
              "      spin 1s steps(1) infinite;\n",
              "  }\n",
              "\n",
              "  @keyframes spin {\n",
              "    0% {\n",
              "      border-color: transparent;\n",
              "      border-bottom-color: var(--fill-color);\n",
              "      border-left-color: var(--fill-color);\n",
              "    }\n",
              "    20% {\n",
              "      border-color: transparent;\n",
              "      border-left-color: var(--fill-color);\n",
              "      border-top-color: var(--fill-color);\n",
              "    }\n",
              "    30% {\n",
              "      border-color: transparent;\n",
              "      border-left-color: var(--fill-color);\n",
              "      border-top-color: var(--fill-color);\n",
              "      border-right-color: var(--fill-color);\n",
              "    }\n",
              "    40% {\n",
              "      border-color: transparent;\n",
              "      border-right-color: var(--fill-color);\n",
              "      border-top-color: var(--fill-color);\n",
              "    }\n",
              "    60% {\n",
              "      border-color: transparent;\n",
              "      border-right-color: var(--fill-color);\n",
              "    }\n",
              "    80% {\n",
              "      border-color: transparent;\n",
              "      border-right-color: var(--fill-color);\n",
              "      border-bottom-color: var(--fill-color);\n",
              "    }\n",
              "    90% {\n",
              "      border-color: transparent;\n",
              "      border-bottom-color: var(--fill-color);\n",
              "    }\n",
              "  }\n",
              "</style>\n",
              "\n",
              "  <script>\n",
              "    async function quickchart(key) {\n",
              "      const quickchartButtonEl =\n",
              "        document.querySelector('#' + key + ' button');\n",
              "      quickchartButtonEl.disabled = true;  // To prevent multiple clicks.\n",
              "      quickchartButtonEl.classList.add('colab-df-spinner');\n",
              "      try {\n",
              "        const charts = await google.colab.kernel.invokeFunction(\n",
              "            'suggestCharts', [key], {});\n",
              "      } catch (error) {\n",
              "        console.error('Error during call to suggestCharts:', error);\n",
              "      }\n",
              "      quickchartButtonEl.classList.remove('colab-df-spinner');\n",
              "      quickchartButtonEl.classList.add('colab-df-quickchart-complete');\n",
              "    }\n",
              "    (() => {\n",
              "      let quickchartButtonEl =\n",
              "        document.querySelector('#df-c2f09ea2-0f04-4d81-ab1e-80ad45487857 button');\n",
              "      quickchartButtonEl.style.display =\n",
              "        google.colab.kernel.accessAllowed ? 'block' : 'none';\n",
              "    })();\n",
              "  </script>\n",
              "</div>\n",
              "    </div>\n",
              "  </div>\n"
            ]
          },
          "metadata": {},
          "execution_count": 2
        }
      ],
      "source": [
        "file_read = 'https://raw.githubusercontent.com/luiscarvalhofrade/sprint-iv-backend/main/babies.csv'\n",
        "df = pd.read_csv(file_read)\n",
        "df1 = df.copy()\n",
        "df2 = df1.drop(columns='case')\n",
        "df2.head()"
      ]
    },
    {
      "cell_type": "markdown",
      "source": [
        "# Limpando e analisando a base de dados retirando os *NaN*\n",
        "\n",
        "94% da base estava limpa de NaN, um ótimo número e podemos prosseguir com a analise e posterior criação do(s) modelo(s)"
      ],
      "metadata": {
        "id": "Fzya42tK0PS4"
      },
      "id": "Fzya42tK0PS4"
    },
    {
      "cell_type": "code",
      "execution_count": 3,
      "id": "ed3912b5",
      "metadata": {
        "id": "ed3912b5",
        "colab": {
          "base_uri": "https://localhost:8080/"
        },
        "outputId": "95f861f8-20c8-4a9d-fc4b-3cb9a8182eb7"
      },
      "outputs": [
        {
          "output_type": "stream",
          "name": "stdout",
          "text": [
            "Before Dropping Null values\n",
            "(1236, 7)\n",
            "After Dropping Null values\n",
            "(1174, 7)\n",
            "Percentage of Non-Null Values\n",
            "94.98381877022653\n"
          ]
        }
      ],
      "source": [
        "dataset = df2.dropna()\n",
        "# Check the size reduction by dropping the null value\n",
        "print('Before Dropping Null values')\n",
        "print(df2.shape)\n",
        "print('After Dropping Null values')\n",
        "print(df2.dropna().shape)\n",
        "print('Percentage of Non-Null Values')\n",
        "print(df2.dropna().shape[0]/df.shape[0] *100)"
      ]
    },
    {
      "cell_type": "markdown",
      "source": [
        "# Preprocessamento dos dados a serem utilizados\n",
        "\n",
        "- Separação entre valores de treino e de teste e definição do tamamho de cada uma\n",
        "- Definição do tamanho das partições e validação cruzada com estratificação"
      ],
      "metadata": {
        "id": "m33yjwqS0VDs"
      },
      "id": "m33yjwqS0VDs"
    },
    {
      "cell_type": "code",
      "execution_count": 4,
      "id": "d7021ccd",
      "metadata": {
        "id": "d7021ccd"
      },
      "outputs": [],
      "source": [
        "test_size = 0.30 # tamanho do conjunto de teste\n",
        "seed = 7 # semente aleatória\n",
        "\n",
        "# Separação em conjuntos de treino e teste\n",
        "array = dataset.values\n",
        "X = array[:,0:6]\n",
        "y = array[:,6]\n",
        "X_train, X_test, y_train, y_test = train_test_split(X, y,\n",
        "    test_size=test_size, shuffle=True, random_state=seed, stratify=y) # holdout com estratificação\n",
        "\n",
        "# Parâmetros e partições da validação cruzada\n",
        "scoring = 'accuracy'\n",
        "num_particoes = 10\n",
        "kfold = StratifiedKFold(n_splits=num_particoes, shuffle=True, random_state=seed) # validação cruzada com estratificação"
      ]
    },
    {
      "cell_type": "markdown",
      "source": [
        "# Rodando modelos de classificação\n",
        "\n",
        "- Utilizamos os 4 modelos descritos no material do curso\n",
        "  - KNN, NB, SVM e CART\n",
        "  - dos modelos extraimos as médias, desvio padrão e platamos boxplot para ajudar com a analise dos modelos\n",
        "\n",
        "- Resultado: em um primeiro momento observamos o modelo NB como com melhor resultado, porém o desvio padrão é muito grande. Devemos continuar com melhorias na análise dos dados.\n",
        "\n"
      ],
      "metadata": {
        "id": "4Xg0LF5y06Br"
      },
      "id": "4Xg0LF5y06Br"
    },
    {
      "cell_type": "code",
      "execution_count": 5,
      "id": "66dffebc",
      "metadata": {
        "id": "66dffebc",
        "colab": {
          "base_uri": "https://localhost:8080/",
          "height": 1000
        },
        "outputId": "ded8bdce-cf8e-4e70-bfcf-0231cb47747d"
      },
      "outputs": [
        {
          "output_type": "stream",
          "name": "stdout",
          "text": [
            "KNN: 0.607773 (0.038684)\n",
            "CART: 0.539627 (0.043057)\n",
            "NB: 0.652924 (0.064423)\n",
            "SVM: 0.605378 (0.006942)\n"
          ]
        },
        {
          "output_type": "display_data",
          "data": {
            "text/plain": [
              "<Figure size 1500x1000 with 1 Axes>"
            ],
            "image/png": "[encoded data removed]"
          },
          "metadata": {}
        }
      ],
      "source": [
        "np.random.seed(7) # definindo uma semente global\n",
        "\n",
        "# Lista que armazenará os modelos\n",
        "models = []\n",
        "\n",
        "# Criando os modelos e adicionando-os na lista de modelos\n",
        "models.append(('KNN', KNeighborsClassifier()))\n",
        "models.append(('CART', DecisionTreeClassifier()))\n",
        "models.append(('NB', GaussianNB()))\n",
        "models.append(('SVM', SVC()))\n",
        "\n",
        "# Listas para armazenar os resultados\n",
        "results = []\n",
        "names = []\n",
        "\n",
        "# Avaliação dos modelos\n",
        "for name, model in models:\n",
        "    cv_results = cross_val_score(model, X_train, y_train, cv=kfold, scoring=scoring)\n",
        "    results.append(cv_results)\n",
        "    names.append(name)\n",
        "    msg = \"%s: %f (%f)\" % (name, cv_results.mean(), cv_results.std())\n",
        "    print(msg)\n",
        "\n",
        "# Boxplot de comparação dos modelos\n",
        "fig = plt.figure(figsize=(15,10))\n",
        "fig.suptitle('Comparação dos Modelos')\n",
        "ax = fig.add_subplot(111)\n",
        "plt.boxplot(results)\n",
        "ax.set_xticklabels(names)\n",
        "plt.show()"
      ]
    },
    {
      "cell_type": "markdown",
      "source": [
        "# Construção das pipelines para novo conjunto de análises\n",
        "\n",
        "- Serão utiliazados os mesmos modelos anteriores, porém vamos aplicar também a normalização e padronização (separadamente) dos dados para ver se conseguimos melhorar ainda mais o resultado.\n",
        "- Ao final plotamos os resultados em boxplot para ajudar na análise\n",
        "- Resultado: Observamos que os melhores resultados foram obtidos com o modelo SVM, tanto normalizado quanto o padronizado. Sendo o padronizado o melhor"
      ],
      "metadata": {
        "id": "OQkgr-gY207Y"
      },
      "id": "OQkgr-gY207Y"
    },
    {
      "cell_type": "code",
      "execution_count": 6,
      "id": "3acb8531",
      "metadata": {
        "id": "3acb8531",
        "colab": {
          "base_uri": "https://localhost:8080/",
          "height": 729
        },
        "outputId": "88981250-58d4-470d-cfc8-a08f621eda4d"
      },
      "outputs": [
        {
          "output_type": "stream",
          "name": "stdout",
          "text": [
            "KNN-orig: 0.608 (0.039)\n",
            "CART-orig: 0.540 (0.043)\n",
            "NB-orig: 0.653 (0.064)\n",
            "SVM-orig: 0.605 (0.007)\n",
            "KNN-padr: 0.590 (0.049)\n",
            "CART-padr: 0.537 (0.037)\n",
            "NB-padr: 0.653 (0.064)\n",
            "SVM-padr: 0.668 (0.039)\n",
            "KNN-norm: 0.601 (0.045)\n",
            "CART-norm: 0.547 (0.047)\n",
            "NB-norm: 0.653 (0.064)\n",
            "SVM-norm: 0.664 (0.044)\n"
          ]
        },
        {
          "output_type": "display_data",
          "data": {
            "text/plain": [
              "<Figure size 2500x600 with 1 Axes>"
            ],
            "image/png": "[encoded data removed]"
          },
          "metadata": {}
        }
      ],
      "source": [
        "np.random.seed(7) # definindo uma semente global para este bloco\n",
        "\n",
        "# Listas para armazenar os armazenar os pipelines e os resultados para todas as visões do dataset\n",
        "pipelines = []\n",
        "results = []\n",
        "names = []\n",
        "\n",
        "\n",
        "# Criando os elementos do pipeline\n",
        "\n",
        "# Algoritmos que serão utilizados\n",
        "knn = ('KNN', KNeighborsClassifier())\n",
        "cart = ('CART', DecisionTreeClassifier())\n",
        "naive_bayes = ('NB', GaussianNB())\n",
        "svm = ('SVM', SVC())\n",
        "\n",
        "# Transformações que serão utilizadas\n",
        "standard_scaler = ('StandardScaler', StandardScaler())\n",
        "min_max_scaler = ('MinMaxScaler', MinMaxScaler())\n",
        "\n",
        "\n",
        "# Montando os pipelines\n",
        "\n",
        "# Dataset original\n",
        "pipelines.append(('KNN-orig', Pipeline([knn])))\n",
        "pipelines.append(('CART-orig', Pipeline([cart])))\n",
        "pipelines.append(('NB-orig', Pipeline([naive_bayes])))\n",
        "pipelines.append(('SVM-orig', Pipeline([svm])))\n",
        "\n",
        "# Dataset Padronizado\n",
        "pipelines.append(('KNN-padr', Pipeline([standard_scaler, knn])))\n",
        "pipelines.append(('CART-padr', Pipeline([standard_scaler, cart])))\n",
        "pipelines.append(('NB-padr', Pipeline([standard_scaler, naive_bayes])))\n",
        "pipelines.append(('SVM-padr', Pipeline([standard_scaler, svm])))\n",
        "\n",
        "# Dataset Normalizado\n",
        "pipelines.append(('KNN-norm', Pipeline([min_max_scaler, knn])))\n",
        "pipelines.append(('CART-norm', Pipeline([min_max_scaler, cart])))\n",
        "pipelines.append(('NB-norm', Pipeline([min_max_scaler, naive_bayes])))\n",
        "pipelines.append(('SVM-norm', Pipeline([min_max_scaler, svm])))\n",
        "\n",
        "# Executando os pipelines\n",
        "for name, model in pipelines:\n",
        "    cv_results = cross_val_score(model, X_train, y_train, cv=kfold, scoring=scoring)\n",
        "    results.append(cv_results)\n",
        "    names.append(name)\n",
        "    msg = \"%s: %.3f (%.3f)\" % (name, cv_results.mean(), cv_results.std()) # formatando para 3 casas decimais\n",
        "    print(msg)\n",
        "\n",
        "# Boxplot de comparação dos modelos\n",
        "fig = plt.figure(figsize=(25,6))\n",
        "fig.suptitle('Comparação dos Modelos - Dataset orginal, padronizado e normalizado')\n",
        "ax = fig.add_subplot(111)\n",
        "plt.boxplot(results)\n",
        "ax.set_xticklabels(names, rotation=90)\n",
        "plt.show()"
      ]
    },
    {
      "cell_type": "markdown",
      "source": [
        "# Tuning dos modelos SVM e NB\n",
        "\n",
        "- Vamos construir novas pipelines, mas agora vamos utilizar apenas os modelos SVM e NB\n",
        "- O diferencial dessa nova análise é que vamos trabalhar com os hiperparamentros\n",
        "- Vale ressaltar que o modelo NB não possui hiperparametros e normal, padronizado ou normalizado obtemos o mesmo resultado, o intuito é termos mais opções não ficarmos presos em apenas a um único modelo\n",
        "- Resultado: Ao rodar o modelo observamos o que trabalhando os hiperparametros C e GAMMA do modelo SVM, conseguimos melhorar ainda mais o modelo. Sendo o modelo com os hiperparamentros 'SVM__C': 1, 'SVM__gamma': 0.1 o melhor"
      ],
      "metadata": {
        "id": "tjdBHzS73xtO"
      },
      "id": "tjdBHzS73xtO"
    },
    {
      "cell_type": "code",
      "execution_count": 7,
      "id": "d6b9e8d8",
      "metadata": {
        "id": "d6b9e8d8",
        "colab": {
          "base_uri": "https://localhost:8080/"
        },
        "outputId": "703f7b2a-53d0-415d-a885-cd570f64bb8a"
      },
      "outputs": [
        {
          "output_type": "stream",
          "name": "stdout",
          "text": [
            "Sem tratamento de missings: svm-orig - Melhor: 0.652860 usando {'SVM__C': 1, 'SVM__gamma': 0.01}\n",
            "Sem tratamento de missings: svm-padr - Melhor: 0.667458 usando {'SVM__C': 1, 'SVM__gamma': 0.1}\n",
            "Sem tratamento de missings: svm-norm - Melhor: 0.658928 usando {'SVM__C': 10, 'SVM__gamma': 'auto'}\n",
            "Sem tratamento de missings: nb-orig - Melhor: 0.661360 usando {}\n",
            "Sem tratamento de missings: nb-padr - Melhor: 0.661360 usando {}\n",
            "Sem tratamento de missings: nb-norm - Melhor: 0.661360 usando {}\n"
          ]
        }
      ],
      "source": [
        "# Tuning do modelo SVM\n",
        "\n",
        "np.random.seed(7) # definindo uma semente global para este bloco\n",
        "\n",
        "pipelines = []\n",
        "\n",
        "# Definindo os componentes do pipeline\n",
        "svm_model = ('SVM', SVC())\n",
        "naive_bayes = ('NB', GaussianNB())\n",
        "standard_scaler = ('StandardScaler', StandardScaler())\n",
        "min_max_scaler = ('MinMaxScaler', MinMaxScaler())\n",
        "\n",
        "pipelines.append(('svm-orig', Pipeline(steps=[svm_model])))\n",
        "pipelines.append(('svm-padr', Pipeline(steps=[standard_scaler, svm_model])))\n",
        "pipelines.append(('svm-norm', Pipeline(steps=[min_max_scaler, svm_model])))\n",
        "pipelines.append(('nb-orig', Pipeline(steps=[naive_bayes])))\n",
        "pipelines.append(('nb-padr', Pipeline(steps=[standard_scaler, naive_bayes])))\n",
        "pipelines.append(('nb-norm', Pipeline(steps=[min_max_scaler, naive_bayes])))\n",
        "\n",
        "\n",
        "\n",
        "\n",
        "# Prepara e executa o GridSearchCV\n",
        "for name, model in pipelines:\n",
        "    if name.startswith('svm'):\n",
        "        param_grid = {'SVM__C': [0.1, 1, 10, 100], 'SVM__gamma': [0.01, 0.1, 1, 'auto']}\n",
        "    else:\n",
        "        param_grid = {}\n",
        "\n",
        "    grid = GridSearchCV(estimator=model, param_grid=param_grid, cv=5, scoring='accuracy')\n",
        "    grid.fit(X_train, y_train)\n",
        "    # imprime a melhor configuração\n",
        "    # Print the best parameters and the corresponding accuracy\n",
        "    print(\"Sem tratamento de missings: %s - Melhor: %f usando %s\" % (name, grid.best_score_, grid.best_params_))\n"
      ]
    },
    {
      "cell_type": "markdown",
      "source": [
        "# Avaliação do modelo com o conjunto de teste para SVM\n",
        "\n",
        "Rodando a metrica de acuracia, observamos que o modelo atinge um valor interessante acima de 0.6 (que é nosso threshold para o teste do modelo)\n"
      ],
      "metadata": {
        "id": "QwK5oGO5J-RM"
      },
      "id": "QwK5oGO5J-RM"
    },
    {
      "cell_type": "code",
      "execution_count": 8,
      "id": "6390c1db",
      "metadata": {
        "id": "6390c1db",
        "colab": {
          "base_uri": "https://localhost:8080/"
        },
        "outputId": "2d76c42c-4984-45ff-d678-5f062dd0d21a"
      },
      "outputs": [
        {
          "output_type": "stream",
          "name": "stdout",
          "text": [
            "accuracy: 0.6402266288951841\n"
          ]
        }
      ],
      "source": [
        "# Avaliação do modelo com o conjunto de testes\n",
        "\n",
        "# Preparação do modelo\n",
        "scaler = StandardScaler().fit(X_train) # ajuste do scaler com o conjunto de treino\n",
        "rescaledX = scaler.transform(X_train) # aplicação da padronização no conjunto de treino\n",
        "model = SVC(C=1, gamma=0.1)\n",
        "model.fit(rescaledX, y_train)\n",
        "\n",
        "# Estimativa da acurácia no conjunto de teste\n",
        "rescaledTestX = scaler.transform(X_test) # aplicação da padronização no conjunto de teste\n",
        "predictions = model.predict(rescaledTestX)\n",
        "#print(accuracy_score(y_test, predictions))\n",
        "print('accuracy:', accuracy_score(y_test, predictions))"
      ]
    },
    {
      "cell_type": "markdown",
      "source": [
        "# Preparação do modelo"
      ],
      "metadata": {
        "id": "iVFCYs7g49_R"
      },
      "id": "iVFCYs7g49_R"
    },
    {
      "cell_type": "code",
      "execution_count": 9,
      "id": "d56dfbf6",
      "metadata": {
        "id": "d56dfbf6",
        "colab": {
          "base_uri": "https://localhost:8080/",
          "height": 75
        },
        "outputId": "1859d345-5bbb-4bf2-d3f2-7bd1c349088e"
      },
      "outputs": [
        {
          "output_type": "execute_result",
          "data": {
            "text/plain": [
              "SVC(C=1, gamma=0.1)"
            ],
            "text/html": [
              "<style>#sk-container-id-1 {color: black;background-color: white;}#sk-container-id-1 pre{padding: 0;}#sk-container-id-1 div.sk-toggleable {background-color: white;}#sk-container-id-1 label.sk-toggleable__label {cursor: pointer;display: block;width: 100%;margin-bottom: 0;padding: 0.3em;box-sizing: border-box;text-align: center;}#sk-container-id-1 label.sk-toggleable__label-arrow:before {content: \"▸\";float: left;margin-right: 0.25em;color: #696969;}#sk-container-id-1 label.sk-toggleable__label-arrow:hover:before {color: black;}#sk-container-id-1 div.sk-estimator:hover label.sk-toggleable__label-arrow:before {color: black;}#sk-container-id-1 div.sk-toggleable__content {max-height: 0;max-width: 0;overflow: hidden;text-align: left;background-color: #f0f8ff;}#sk-container-id-1 div.sk-toggleable__content pre {margin: 0.2em;color: black;border-radius: 0.25em;background-color: #f0f8ff;}#sk-container-id-1 input.sk-toggleable__control:checked~div.sk-toggleable__content {max-height: 200px;max-width: 100%;overflow: auto;}#sk-container-id-1 input.sk-toggleable__control:checked~label.sk-toggleable__label-arrow:before {content: \"▾\";}#sk-container-id-1 div.sk-estimator input.sk-toggleable__control:checked~label.sk-toggleable__label {background-color: #d4ebff;}#sk-container-id-1 div.sk-label input.sk-toggleable__control:checked~label.sk-toggleable__label {background-color: #d4ebff;}#sk-container-id-1 input.sk-hidden--visually {border: 0;clip: rect(1px 1px 1px 1px);clip: rect(1px, 1px, 1px, 1px);height: 1px;margin: -1px;overflow: hidden;padding: 0;position: absolute;width: 1px;}#sk-container-id-1 div.sk-estimator {font-family: monospace;background-color: #f0f8ff;border: 1px dotted black;border-radius: 0.25em;box-sizing: border-box;margin-bottom: 0.5em;}#sk-container-id-1 div.sk-estimator:hover {background-color: #d4ebff;}#sk-container-id-1 div.sk-parallel-item::after {content: \"\";width: 100%;border-bottom: 1px solid gray;flex-grow: 1;}#sk-container-id-1 div.sk-label:hover label.sk-toggleable__label {background-color: #d4ebff;}#sk-container-id-1 div.sk-serial::before {content: \"\";position: absolute;border-left: 1px solid gray;box-sizing: border-box;top: 0;bottom: 0;left: 50%;z-index: 0;}#sk-container-id-1 div.sk-serial {display: flex;flex-direction: column;align-items: center;background-color: white;padding-right: 0.2em;padding-left: 0.2em;position: relative;}#sk-container-id-1 div.sk-item {position: relative;z-index: 1;}#sk-container-id-1 div.sk-parallel {display: flex;align-items: stretch;justify-content: center;background-color: white;position: relative;}#sk-container-id-1 div.sk-item::before, #sk-container-id-1 div.sk-parallel-item::before {content: \"\";position: absolute;border-left: 1px solid gray;box-sizing: border-box;top: 0;bottom: 0;left: 50%;z-index: -1;}#sk-container-id-1 div.sk-parallel-item {display: flex;flex-direction: column;z-index: 1;position: relative;background-color: white;}#sk-container-id-1 div.sk-parallel-item:first-child::after {align-self: flex-end;width: 50%;}#sk-container-id-1 div.sk-parallel-item:last-child::after {align-self: flex-start;width: 50%;}#sk-container-id-1 div.sk-parallel-item:only-child::after {width: 0;}#sk-container-id-1 div.sk-dashed-wrapped {border: 1px dashed gray;margin: 0 0.4em 0.5em 0.4em;box-sizing: border-box;padding-bottom: 0.4em;background-color: white;}#sk-container-id-1 div.sk-label label {font-family: monospace;font-weight: bold;display: inline-block;line-height: 1.2em;}#sk-container-id-1 div.sk-label-container {text-align: center;}#sk-container-id-1 div.sk-container {/* jupyter's `normalize.less` sets `[hidden] { display: none; }` but bootstrap.min.css set `[hidden] { display: none !important; }` so we also need the `!important` here to be able to override the default hidden behavior on the sphinx rendered scikit-learn.org. See: https://github.com/scikit-learn/scikit-learn/issues/21755 */display: inline-block !important;position: relative;}#sk-container-id-1 div.sk-text-repr-fallback {display: none;}</style><div id=\"sk-container-id-1\" class=\"sk-top-container\"><div class=\"sk-text-repr-fallback\"><pre>SVC(C=1, gamma=0.1)</pre><b>In a Jupyter environment, please rerun this cell to show the HTML representation or trust the notebook. <br />On GitHub, the HTML representation is unable to render, please try loading this page with nbviewer.org.</b></div><div class=\"sk-container\" hidden><div class=\"sk-item\"><div class=\"sk-estimator sk-toggleable\"><input class=\"sk-toggleable__control sk-hidden--visually\" id=\"sk-estimator-id-1\" type=\"checkbox\" checked><label for=\"sk-estimator-id-1\" class=\"sk-toggleable__label sk-toggleable__label-arrow\">SVC</label><div class=\"sk-toggleable__content\"><pre>SVC(C=1, gamma=0.1)</pre></div></div></div></div></div>"
            ]
          },
          "metadata": {},
          "execution_count": 9
        }
      ],
      "source": [
        "# Preparação do modelo com TODO o dataset\n",
        "scaler = StandardScaler().fit(X) # ajuste do scaler com TODO o dataset\n",
        "rescaledX = scaler.transform(X) # aplicação da padronização com TODO o dataset\n",
        "model.fit(rescaledX, y)"
      ]
    },
    {
      "cell_type": "markdown",
      "source": [
        "# Usando novos dados e fazendo a padronização dos dados"
      ],
      "metadata": {
        "id": "UslSdsT_5Ksg"
      },
      "id": "UslSdsT_5Ksg"
    },
    {
      "cell_type": "code",
      "execution_count": 10,
      "id": "2bcf93b9",
      "metadata": {
        "id": "2bcf93b9",
        "colab": {
          "base_uri": "https://localhost:8080/"
        },
        "outputId": "ba2e7b2b-aa68-413f-d0b8-4ac5267e65b5"
      },
      "outputs": [
        {
          "output_type": "stream",
          "name": "stdout",
          "text": [
            "[[ 0.30224987  0.05615259 -0.59637086  0.47662061 14.23771645 -2.86983907]\n",
            " [-0.07982818 -0.50622492  1.67680897 -0.72708811 14.23771645 -2.7250895 ]\n",
            " [ 0.79349309  0.36858454  1.67680897 -0.38317133 14.23771645 -3.01458864]]\n"
          ]
        }
      ],
      "source": [
        "# Novos dados - não sabemos a classe!\n",
        "data = {'bwt':  [125, 118, 134],\n",
        "        'gestation': [280, 271, 285],\n",
        "        'parity': [0, 1, 1],\n",
        "        'age': [30, 23, 25],\n",
        "        'weight': [100, 100, 100],\n",
        "        'height': [69.0, 72.0, 66.0],\n",
        "        }\n",
        "\n",
        "atributos = ['bwt', 'gestation', 'parity', 'age', 'weight', 'height']\n",
        "entrada = pd.DataFrame(data, columns=atributos)\n",
        "\n",
        "array_entrada = entrada.values\n",
        "X_entrada = array_entrada[:,0:7].astype(float)\n",
        "\n",
        "# Padronização nos dados de entrada usando o scaler utilizado em X\n",
        "rescaledEntradaX = scaler.transform(X_entrada)\n",
        "print(rescaledEntradaX)"
      ]
    },
    {
      "cell_type": "markdown",
      "source": [
        "# Rodando o modelo com os dados anteriormente escolhidos e padronizados"
      ],
      "metadata": {
        "id": "r1P5l-6n5Xbs"
      },
      "id": "r1P5l-6n5Xbs"
    },
    {
      "cell_type": "code",
      "execution_count": 11,
      "id": "d2942355",
      "metadata": {
        "id": "d2942355",
        "colab": {
          "base_uri": "https://localhost:8080/"
        },
        "outputId": "c3674690-bd30-4066-9eeb-86afea8e61e0"
      },
      "outputs": [
        {
          "output_type": "stream",
          "name": "stdout",
          "text": [
            "[0. 0. 0.]\n"
          ]
        }
      ],
      "source": [
        "saidas = model.predict(rescaledEntradaX)\n",
        "print(saidas)"
      ]
    },
    {
      "cell_type": "markdown",
      "source": [
        "# Salvando o modelo com a biblioteca pickle e gerando o arquivo 'smoker_preditor_svm.pkl' que será embarcado na solução fullstack"
      ],
      "metadata": {
        "id": "4aUtTMzN5c6z"
      },
      "id": "4aUtTMzN5c6z"
    },
    {
      "cell_type": "code",
      "execution_count": 12,
      "id": "09e1cb77",
      "metadata": {
        "id": "09e1cb77",
        "colab": {
          "base_uri": "https://localhost:8080/"
        },
        "outputId": "15e7ef65-0610-4396-f7dd-8303f14b7dcb"
      },
      "outputs": [
        {
          "output_type": "execute_result",
          "data": {
            "text/plain": [
              "<function BufferedWriter.close>"
            ]
          },
          "metadata": {},
          "execution_count": 12
        }
      ],
      "source": [
        "pickle_out = open('smoker_preditor_svm.pkl', 'wb')\n",
        "pickle.dump(model, pickle_out)\n",
        "pickle_out.close"
      ]
    }
  ],
  "metadata": {
    "kernelspec": {
      "display_name": "Python 3 (ipykernel)",
      "language": "python",
      "name": "python3"
    },
    "language_info": {
      "codemirror_mode": {
        "name": "ipython",
        "version": 3
      },
      "file_extension": ".py",
      "mimetype": "text/x-python",
      "name": "python",
      "nbconvert_exporter": "python",
      "pygments_lexer": "ipython3",
      "version": "3.11.5"
    },
    "colab": {
      "provenance": [],
      "include_colab_link": true
    }
  },
  "nbformat": 4,
  "nbformat_minor": 5
}